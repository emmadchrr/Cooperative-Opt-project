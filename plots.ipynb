{
 "cells": [
  {
   "cell_type": "code",
   "execution_count": 1,
   "metadata": {},
   "outputs": [],
   "source": [
    "from methods.utils import *"
   ]
  },
  {
   "cell_type": "code",
   "execution_count": 2,
   "metadata": {},
   "outputs": [],
   "source": [
    "with open('first_database.pkl', 'rb') as f:\n",
    "    x, y = pickle.load(f)"
   ]
  },
  {
   "cell_type": "markdown",
   "metadata": {},
   "source": [
    "# Parameters"
   ]
  },
  {
   "cell_type": "code",
   "execution_count": null,
   "metadata": {},
   "outputs": [],
   "source": [
    "n, m, a = 100, 10, 5\n",
    "sigma2 = 0.25\n",
    "nu = 1\n",
    "beta = 1\n",
    "n_epochs = 10000\n",
    "sigma = 0.5\n",
    "step_size = 0.01"
   ]
  },
  {
   "cell_type": "code",
   "execution_count": 24,
   "metadata": {},
   "outputs": [],
   "source": [
    "x_n = x[:n] \n",
    "y_n = y[:n]\n",
    "sel = [i for i in range(n)]\n",
    "ind = np.random.choice(sel, m, replace=False)\n",
    "x_selected = np.array([x[i] for i in ind])\n",
    "Kmm = compute_kernel_matrix(x_selected, x_selected)\n",
    "Knm = compute_kernel_matrix(x_n, x_selected)\n",
    "alpha_star = compute_alpha_star(Kmm, Knm, y_n, sigma2, nu)\n",
    "#W = np.ones((a, a))\n",
    "#W = W_base(a)\n",
    "W = W_base_bis(a)\n",
    "# W = fully_connected_graph(a)\n",
    "#W = linear_graph(a)\n",
    "#W = small_world_graph(a)\n",
    "K = compute_kernel_matrix(x_n, x_n)\n",
    "N = np.arange(n)\n",
    "np.random.shuffle(N)\n",
    "A = np.array_split(N, a)"
   ]
  },
  {
   "cell_type": "markdown",
   "metadata": {},
   "source": [
    "# Methods"
   ]
  },
  {
   "cell_type": "code",
   "execution_count": 5,
   "metadata": {},
   "outputs": [],
   "source": [
    "def DGD(X, Y, X_selected, A, nu, sigma2, alpha_star, W, step_size, n_epochs=500):\n",
    "    \"\"\"\n",
    "    Decentralized Gradient Descent (DGD) optimisé.\n",
    "    \"\"\"\n",
    "    m = X_selected.shape[0]\n",
    "    a = len(A)\n",
    "    \n",
    "    # Initialization of alpha\n",
    "    alpha = np.zeros((a * m, 1))\n",
    "    \n",
    "    #Normalized Weight Matrix\n",
    "    W_bar = np.kron(W / 3, np.eye(m))\n",
    "        \n",
    "    optimal_gaps = [[] for _ in range(a)]\n",
    "    alpha_list_agent = []\n",
    "    alpha_mean_list = []\n",
    "    \n",
    "    for _ in range(n_epochs):\n",
    "        grad = grad_alpha(sigma2, nu, Y, X, X_selected, alpha, A, m)\n",
    "        alpha = W_bar @ alpha - step_size * grad.reshape(a * m, 1)\n",
    "        alpha_list_agent.append(alpha.reshape(a, m))\n",
    "        alpha_mean_list.append(alpha.reshape(a, m).mean(axis=0))\n",
    "        for agent_idx in range(a):\n",
    "            optimal_gaps[agent_idx].append(np.linalg.norm(alpha.reshape(a, m)[agent_idx] - alpha_star))\n",
    "    \n",
    "    alpha_optim = alpha.reshape(a, m).mean(axis=0)\n",
    "    \n",
    "    return optimal_gaps, alpha_optim, alpha_list_agent, alpha_mean_list"
   ]
  },
  {
   "cell_type": "code",
   "execution_count": 6,
   "metadata": {},
   "outputs": [],
   "source": [
    "def gradient_tracking(x, y, x_selected, A, nu, sigma2, alpha_star, W, lr, n_epochs = 500):\n",
    "    \"\"\"\n",
    "    Implement the GT algorithm\n",
    "    \"\"\"\n",
    "    a = len(A)\n",
    "    m = x_selected.shape[0]\n",
    "    alpha = np.zeros((a * m, 1))        # local parameters of the agents\n",
    "    g = np.zeros((a * m, 1))            # gradient tracking term (a*m, 1)\n",
    "    W_bar = np.kron(W, np.eye(m))   # Consensus matrix\n",
    "\n",
    "\n",
    "    optimal_gaps = [[] for _ in range(a)]\n",
    "    alpha_list_agent = []\n",
    "    alpha_mean_list = []\n",
    "\n",
    "    # initialization of the gradient\n",
    "    grad_old = grad_alpha(sigma2, nu, y, x, x_selected, alpha, A, m).reshape((a * m, 1))  # (a, m)\n",
    "    g = grad_old.copy()\n",
    "\n",
    "    for epoch in range(n_epochs):\n",
    "        # update alpha_i using g\n",
    "        alpha = W_bar @ alpha - lr * g\n",
    "\n",
    "        grad_new = grad_alpha(sigma2, nu, y, x, x_selected, alpha, A, m).reshape((a * m, 1))  # (a, m)\n",
    "\n",
    "        # update g^i\n",
    "        g = (W_bar @ g + (grad_new - grad_old))\n",
    "\n",
    "        grad_old = grad_new\n",
    "    \n",
    "        alpha_list_agent.append(alpha.reshape(a, m))\n",
    "        alpha_mean_list.append(alpha.reshape(a, m).mean(axis=0))\n",
    "\n",
    "        for agent in range(a):\n",
    "            optimal_gaps[agent].append(np.linalg.norm(alpha.reshape(a, m)[agent] - alpha_star))\n",
    "\n",
    "    alpha_optim = alpha.reshape(a, m).mean(axis=0)\n",
    "\n",
    "    return optimal_gaps, alpha_optim, alpha_list_agent, alpha_mean_list"
   ]
  },
  {
   "cell_type": "code",
   "execution_count": 7,
   "metadata": {},
   "outputs": [],
   "source": [
    "\n",
    "def ADMM(X, Y, X_selected, A, nu, sigma2, n_epochs, W, beta):\n",
    "    \"\"\"\n",
    "    ADMM Implementation\n",
    "    \"\"\"\n",
    "    a = len(A)  \n",
    "    m = len(X_selected)  # Number of selected points\n",
    "\n",
    "    # Define neighbors for each agent based on the adjacency matrix\n",
    "    neighbors = [[j for j in range(a) if j != i and W[i, j] > 0.0001] for i in range(a)]\n",
    "\n",
    "    # Compute kernel matrices\n",
    "    Kmm = compute_kernel_matrix(X_selected, X_selected)\n",
    "    KimKim = [compute_kernel_matrix(X[A[i]], X_selected).T @ \n",
    "              compute_kernel_matrix(X[A[i]], X_selected) for i in range(a)]\n",
    "    yKnm = [compute_kernel_matrix(X[A[i]], X_selected).T @ Y[A[i]] for i in range(a)]\n",
    "\n",
    "    # Initialize dual variables and auxiliary variables\n",
    "    lambda_k = {}  # Lagrange multipliers\n",
    "    y_k = {}  # Auxiliary variables for consensus\n",
    "\n",
    "    for i in range(a):\n",
    "        for j in neighbors[i]:\n",
    "            lambda_k[i, j] = np.zeros(m)  # Initialize Lagrange multipliers\n",
    "            if i < j:\n",
    "                s = np.random.rand(m) \n",
    "                y_k[i, j] = s\n",
    "                y_k[j, i] = s  \n",
    "\n",
    "    iteration = 0\n",
    "    deviation_alpha_star = []  # Track deviation from the optimal alpha_star\n",
    "    alpha_list = []\n",
    "    alpha_mean_list = []\n",
    "\n",
    "    # Compute the reference optimal solution alpha_star\n",
    "    Knm = compute_kernel_matrix(X, X_selected)\n",
    "    alpha_star = compute_alpha_star(Kmm, Knm, Y, sigma2, nu)\n",
    "\n",
    "    while iteration <= n_epochs:\n",
    "        iteration += 1\n",
    "\n",
    "        alpha_k = [\n",
    "            np.linalg.solve(\n",
    "                (nu / a) * np.identity(m) +\n",
    "                (sigma2 / a) * Kmm +\n",
    "                KimKim[i] +\n",
    "                sum(beta * np.identity(m) for j in neighbors[i]),  # Adjust for neighbors\n",
    "\n",
    "                yKnm[i] + sum(beta * y_k[i, j] - lambda_k[i, j] for j in neighbors[i])\n",
    "            )\n",
    "            for i in range(a)\n",
    "        ]\n",
    "        alpha_k = np.array(alpha_k)  # Convert to NumPy array\n",
    "\n",
    "        # Store alpha values for tracking\n",
    "        alpha_list.append(alpha_k.copy())  \n",
    "        alpha_mean_list.append(np.mean(alpha_k, axis=0))  # Compute mean alpha\n",
    "\n",
    "        # Compute deviation from alpha_star\n",
    "        deviation_alpha_star.append([np.linalg.norm(alpha_k[i] - alpha_star) for i in range(a)])\n",
    "\n",
    "        # Update auxiliary variables y_k and Lagrange multipliers lambda_k\n",
    "        for i in range(a):\n",
    "            for j in neighbors[i]:\n",
    "                y_k[i, j] = 0.5 * (alpha_k[i] + alpha_k[j])  # Average of neighbor alphas\n",
    "                lambda_k[i, j] += beta * (alpha_k[i] - y_k[i, j])  # Update Lagrange multipliers\n",
    "\n",
    "    return alpha_k, alpha_list, alpha_mean_list, np.array(deviation_alpha_star)"
   ]
  },
  {
   "cell_type": "code",
   "execution_count": 8,
   "metadata": {},
   "outputs": [],
   "source": [
    "def solve_alpha(x, y, x_selected, A, sigma, nu, adj_matrix, lamb):\n",
    "    \"\"\"\n",
    "    Computes the alpha values for a dual decomposition approach in a distributed kernel-based method.\"\n",
    "    \"\"\"\n",
    "\n",
    "    n_samples = len(x)\n",
    "    a = len(A)\n",
    "    m = len(x_selected)\n",
    "    \n",
    "    Kmm = compute_kernel_matrix(x_selected, x_selected)\n",
    "    # Initialize list to store alpha values for each agent\n",
    "    alpha_values = []\n",
    "\n",
    "    for agent in range(a):\n",
    "        Kim = compute_kernel_matrix(x[A[agent]], x_selected)\n",
    "        # Construct the system matrix A using kernel properties and regularization\n",
    "        A_matrix = sigma**2 * Kmm + np.eye(m) * nu + Kim.T @ Kim\n",
    "        b_vector = Kim.T @ y[A[agent]] # Compute the right-hand side vector b\n",
    "\n",
    "        # Adjust b_vector based on Lagrange multipliers from neighboring agents\n",
    "        for neighbor_idx in range(a):\n",
    "            if adj_matrix[agent, neighbor_idx] != 0:\n",
    "                if agent > neighbor_idx:\n",
    "                    b_vector -= lamb[agent, neighbor_idx, :]\n",
    "                else:\n",
    "                    b_vector += lamb[neighbor_idx, agent, :]\n",
    "\n",
    "        # Solve the linear system A * alpha = b\n",
    "        alpha_values.append(np.linalg.solve(A_matrix, b_vector))\n",
    "\n",
    "    return np.array(alpha_values)\n",
    "\n",
    "def dualDec(x, y, selected_points, A, K, sigma, nu, step_size, W, max_iter=1000, lamb0=0):\n",
    "    \"\"\"\n",
    "    Performs dual decomposition for distributed kernel-based learning.\"\n",
    "    \"\"\"\n",
    "    # Construct the communication graph (binary adjacency matrix)\n",
    "    communication_graph = (W > 0).astype(int)\n",
    "    \n",
    "    m = len(selected_points)\n",
    "    a = len(A)\n",
    "    \n",
    "    # Ensure diagonal of graph is zero (no self-connections)\n",
    "    for agent in range(a):\n",
    "        communication_graph[agent, agent] = 0\n",
    "\n",
    "    # Initialize Lagrange multipliers\n",
    "    lambda_ij = lamb0 * np.ones((a, a, m))\n",
    "\n",
    "    # Lists to track alpha values across iterations\n",
    "    alpha_mean_list = []\n",
    "    alpha_list_agent = []\n",
    "\n",
    "    for _ in tqdm(range(max_iter)):\n",
    "        # Compute optimal alpha values for each agent\n",
    "        alpha_optim = solve_alpha(\n",
    "            x, y, selected_points, A, sigma, nu, \n",
    "            communication_graph, lambda_ij\n",
    "        )\n",
    "\n",
    "        # Update Lagrange multipliers for connected agents\n",
    "        for agent_i in range(a):\n",
    "            for agent_j in range(agent_i):  # Only update for i > j\n",
    "                lambda_ij[agent_i, agent_j, :] += step_size * (alpha_optim[agent_i, :] - alpha_optim[agent_j, :])\n",
    "\n",
    "        # Track mean alpha values and per-agent alphas over iterations\n",
    "        alpha_mean_list.append(alpha_optim.mean(axis=0))\n",
    "        alpha_list_agent.append(alpha_optim)\n",
    "\n",
    "    # Compute the final optimized alpha as the mean across agents\n",
    "    alpha_optim = np.mean(alpha_optim.reshape(a, m), axis=0)\n",
    "\n",
    "    return alpha_optim, alpha_list_agent, alpha_mean_list"
   ]
  },
  {
   "cell_type": "code",
   "execution_count": 9,
   "metadata": {},
   "outputs": [],
   "source": [
    "alpha_optimal = compute_alpha_star(Kmm, Knm, y_n, sigma2, nu)"
   ]
  },
  {
   "cell_type": "code",
   "execution_count": 10,
   "metadata": {},
   "outputs": [],
   "source": [
    "alpha_optim_admm, alpha_list_admm, alpha_mean_list_admm, opt_gaps_admm = ADMM(x_n, y_n, x_selected, A, nu, sigma2, n_epochs, W, beta)"
   ]
  },
  {
   "cell_type": "code",
   "execution_count": null,
   "metadata": {},
   "outputs": [],
   "source": [
    "alpha_optim_dgd, opt_gaps_dgd, alpha_list_dgd, alpha_mean_list_dgd = DGD(x_n, y_n, x_selected, A, nu, sigma2, alpha_star, W, step_size, n_epochs)"
   ]
  },
  {
   "cell_type": "code",
   "execution_count": null,
   "metadata": {},
   "outputs": [],
   "source": [
    "alpha_optim_gt, opt_gaps_gt, alpha_list_gt, alpha_mean_list_gt = gradient_tracking(x_n, y_n, x_selected, A, nu, sigma2, alpha_star, W, step_size, n_epochs)"
   ]
  },
  {
   "cell_type": "code",
   "execution_count": 21,
   "metadata": {},
   "outputs": [
    {
     "name": "stderr",
     "output_type": "stream",
     "text": [
      "100%|██████████| 10000/10000 [00:51<00:00, 194.04it/s]\n"
     ]
    }
   ],
   "source": [
    "alpha_optim_dd, alpha_list_dd, alpha_mean_list_dd = dualDec(\n",
    "        x_n, y_n, x_selected, A,\n",
    "        K, sigma, nu, 0.1, W, max_iter=10000, lamb0=0.\n",
    "    )"
   ]
  },
  {
   "cell_type": "code",
   "execution_count": 22,
   "metadata": {},
   "outputs": [
    {
     "data": {
      "image/png": "[encoded data removed]",
      "text/plain": [
       "<Figure size 1200x800 with 1 Axes>"
      ]
     },
     "metadata": {},
     "output_type": "display_data"
    }
   ],
   "source": [
    "plot_multi_method([alpha_list_admm, alpha_list_dd], alpha_star, method_names=['ADMM', 'Dual Dec'])"
   ]
  },
  {
   "cell_type": "code",
   "execution_count": 33,
   "metadata": {},
   "outputs": [
    {
     "name": "stdout",
     "output_type": "stream",
     "text": [
      "n = 100\n"
     ]
    },
    {
     "name": "stderr",
     "output_type": "stream",
     "text": [
      "100%|██████████| 1000/1000 [00:09<00:00, 106.61it/s]\n"
     ]
    },
    {
     "name": "stdout",
     "output_type": "stream",
     "text": [
      "n = 500\n"
     ]
    },
    {
     "name": "stderr",
     "output_type": "stream",
     "text": [
      "c:\\Users\\AHMED-YASSINE\\Desktop\\COURS ENSTA\\3A\\CODS\\Cooperative-Opt-project\\methods\\utils.py:59: RuntimeWarning: overflow encountered in matmul\n",
      "  Kmm = compute_kernel_matrix(X_selected, X_selected)\n",
      "c:\\Users\\AHMED-YASSINE\\AppData\\Local\\Programs\\Python\\Python310\\lib\\site-packages\\numpy\\core\\_methods.py:118: RuntimeWarning: invalid value encountered in reduce\n",
      "  ret = umr_sum(arr, axis, dtype, out, keepdims, where=where)\n",
      "C:\\Users\\AHMED-YASSINE\\AppData\\Local\\Temp\\ipykernel_16664\\385034623.py:20: RuntimeWarning: invalid value encountered in matmul\n",
      "  alpha = W_bar @ alpha - step_size * grad.reshape(a * m, 1)\n",
      "c:\\Users\\AHMED-YASSINE\\Desktop\\COURS ENSTA\\3A\\CODS\\Cooperative-Opt-project\\methods\\utils.py:59: RuntimeWarning: overflow encountered in add\n",
      "  Kmm = compute_kernel_matrix(X_selected, X_selected)\n",
      "C:\\Users\\AHMED-YASSINE\\AppData\\Local\\Temp\\ipykernel_16664\\3840554700.py:27: RuntimeWarning: overflow encountered in subtract\n",
      "  g = (W_bar @ g + (grad_new - grad_old))\n",
      "C:\\Users\\AHMED-YASSINE\\AppData\\Local\\Temp\\ipykernel_16664\\3840554700.py:27: RuntimeWarning: overflow encountered in add\n",
      "  g = (W_bar @ g + (grad_new - grad_old))\n",
      "C:\\Users\\AHMED-YASSINE\\AppData\\Local\\Temp\\ipykernel_16664\\3840554700.py:27: RuntimeWarning: invalid value encountered in matmul\n",
      "  g = (W_bar @ g + (grad_new - grad_old))\n",
      "C:\\Users\\AHMED-YASSINE\\AppData\\Local\\Temp\\ipykernel_16664\\3840554700.py:22: RuntimeWarning: invalid value encountered in matmul\n",
      "  alpha = W_bar @ alpha - lr * g\n",
      "100%|██████████| 1000/1000 [00:48<00:00, 20.59it/s]\n"
     ]
    },
    {
     "name": "stdout",
     "output_type": "stream",
     "text": [
      "n = 1000\n"
     ]
    },
    {
     "ename": "KeyboardInterrupt",
     "evalue": "",
     "output_type": "error",
     "traceback": [
      "\u001b[1;31m---------------------------------------------------------------------------\u001b[0m",
      "\u001b[1;31mKeyboardInterrupt\u001b[0m                         Traceback (most recent call last)",
      "\u001b[1;32m~\\AppData\\Local\\Temp\\ipykernel_16664\\2986913041.py\u001b[0m in \u001b[0;36m<cell line: 8>\u001b[1;34m()\u001b[0m\n\u001b[0;32m     34\u001b[0m     \u001b[0malphas_n_admm\u001b[0m\u001b[1;33m.\u001b[0m\u001b[0mappend\u001b[0m\u001b[1;33m(\u001b[0m\u001b[0malpha_optim_admm\u001b[0m\u001b[1;33m)\u001b[0m\u001b[1;33m\u001b[0m\u001b[1;33m\u001b[0m\u001b[0m\n\u001b[0;32m     35\u001b[0m \u001b[1;33m\u001b[0m\u001b[0m\n\u001b[1;32m---> 36\u001b[1;33m     \u001b[0malpha_optim_dgd\u001b[0m\u001b[1;33m,\u001b[0m \u001b[0mopt_gaps_dgd\u001b[0m\u001b[1;33m,\u001b[0m \u001b[0malpha_list_dgd\u001b[0m\u001b[1;33m,\u001b[0m \u001b[0malpha_mean_list_dgd\u001b[0m \u001b[1;33m=\u001b[0m \u001b[0mDGD\u001b[0m\u001b[1;33m(\u001b[0m\u001b[0mx_n\u001b[0m\u001b[1;33m,\u001b[0m \u001b[0my_n\u001b[0m\u001b[1;33m,\u001b[0m \u001b[0mx_selected\u001b[0m\u001b[1;33m,\u001b[0m \u001b[0mA\u001b[0m\u001b[1;33m,\u001b[0m \u001b[0mnu\u001b[0m\u001b[1;33m,\u001b[0m \u001b[0msigma2\u001b[0m\u001b[1;33m,\u001b[0m \u001b[0malpha_star\u001b[0m\u001b[1;33m,\u001b[0m \u001b[0mW\u001b[0m\u001b[1;33m,\u001b[0m \u001b[0mstep_size\u001b[0m\u001b[1;33m,\u001b[0m \u001b[0mn_epochs\u001b[0m\u001b[1;33m)\u001b[0m\u001b[1;33m\u001b[0m\u001b[1;33m\u001b[0m\u001b[0m\n\u001b[0m\u001b[0;32m     37\u001b[0m     \u001b[0malphas_n_dgd\u001b[0m\u001b[1;33m.\u001b[0m\u001b[0mappend\u001b[0m\u001b[1;33m(\u001b[0m\u001b[0malpha_optim_dgd\u001b[0m\u001b[1;33m)\u001b[0m\u001b[1;33m\u001b[0m\u001b[1;33m\u001b[0m\u001b[0m\n\u001b[0;32m     38\u001b[0m \u001b[1;33m\u001b[0m\u001b[0m\n",
      "\u001b[1;32m~\\AppData\\Local\\Temp\\ipykernel_16664\\385034623.py\u001b[0m in \u001b[0;36mDGD\u001b[1;34m(X, Y, X_selected, A, nu, sigma2, alpha_star, W, step_size, n_epochs)\u001b[0m\n\u001b[0;32m     17\u001b[0m \u001b[1;33m\u001b[0m\u001b[0m\n\u001b[0;32m     18\u001b[0m     \u001b[1;32mfor\u001b[0m \u001b[0m_\u001b[0m \u001b[1;32min\u001b[0m \u001b[0mrange\u001b[0m\u001b[1;33m(\u001b[0m\u001b[0mn_epochs\u001b[0m\u001b[1;33m)\u001b[0m\u001b[1;33m:\u001b[0m\u001b[1;33m\u001b[0m\u001b[1;33m\u001b[0m\u001b[0m\n\u001b[1;32m---> 19\u001b[1;33m         \u001b[0mgrad\u001b[0m \u001b[1;33m=\u001b[0m \u001b[0mgrad_alpha\u001b[0m\u001b[1;33m(\u001b[0m\u001b[0msigma2\u001b[0m\u001b[1;33m,\u001b[0m \u001b[0mnu\u001b[0m\u001b[1;33m,\u001b[0m \u001b[0mY\u001b[0m\u001b[1;33m,\u001b[0m \u001b[0mX\u001b[0m\u001b[1;33m,\u001b[0m \u001b[0mX_selected\u001b[0m\u001b[1;33m,\u001b[0m \u001b[0malpha\u001b[0m\u001b[1;33m,\u001b[0m \u001b[0mA\u001b[0m\u001b[1;33m,\u001b[0m \u001b[0mm\u001b[0m\u001b[1;33m)\u001b[0m\u001b[1;33m\u001b[0m\u001b[1;33m\u001b[0m\u001b[0m\n\u001b[0m\u001b[0;32m     20\u001b[0m         \u001b[0malpha\u001b[0m \u001b[1;33m=\u001b[0m \u001b[0mW_bar\u001b[0m \u001b[1;33m@\u001b[0m \u001b[0malpha\u001b[0m \u001b[1;33m-\u001b[0m \u001b[0mstep_size\u001b[0m \u001b[1;33m*\u001b[0m \u001b[0mgrad\u001b[0m\u001b[1;33m.\u001b[0m\u001b[0mreshape\u001b[0m\u001b[1;33m(\u001b[0m\u001b[0ma\u001b[0m \u001b[1;33m*\u001b[0m \u001b[0mm\u001b[0m\u001b[1;33m,\u001b[0m \u001b[1;36m1\u001b[0m\u001b[1;33m)\u001b[0m\u001b[1;33m\u001b[0m\u001b[1;33m\u001b[0m\u001b[0m\n\u001b[0;32m     21\u001b[0m         \u001b[0malpha_list_agent\u001b[0m\u001b[1;33m.\u001b[0m\u001b[0mappend\u001b[0m\u001b[1;33m(\u001b[0m\u001b[0malpha\u001b[0m\u001b[1;33m.\u001b[0m\u001b[0mreshape\u001b[0m\u001b[1;33m(\u001b[0m\u001b[0ma\u001b[0m\u001b[1;33m,\u001b[0m \u001b[0mm\u001b[0m\u001b[1;33m)\u001b[0m\u001b[1;33m)\u001b[0m\u001b[1;33m\u001b[0m\u001b[1;33m\u001b[0m\u001b[0m\n",
      "\u001b[1;32mc:\\Users\\AHMED-YASSINE\\Desktop\\COURS ENSTA\\3A\\CODS\\Cooperative-Opt-project\\methods\\utils.py\u001b[0m in \u001b[0;36mgrad_alpha\u001b[1;34m(sigma2, nu, Y, X, X_selected, alpha, A, m)\u001b[0m\n\u001b[0;32m     56\u001b[0m \u001b[1;32mdef\u001b[0m \u001b[0mnystrom_approx\u001b[0m\u001b[1;33m(\u001b[0m\u001b[0malpha\u001b[0m\u001b[1;33m,\u001b[0m \u001b[0mX_selected\u001b[0m\u001b[1;33m,\u001b[0m \u001b[0mX\u001b[0m\u001b[1;33m)\u001b[0m\u001b[1;33m:\u001b[0m\u001b[1;33m\u001b[0m\u001b[1;33m\u001b[0m\u001b[0m\n\u001b[0;32m     57\u001b[0m     \"\"\"\n\u001b[1;32m---> 58\u001b[1;33m     \u001b[0mCompute\u001b[0m \u001b[0mthe\u001b[0m \u001b[0mNystrom\u001b[0m \u001b[0mapproximation\u001b[0m\u001b[1;33m.\u001b[0m\u001b[1;33m\u001b[0m\u001b[1;33m\u001b[0m\u001b[0m\n\u001b[0m\u001b[0;32m     59\u001b[0m     \"\"\"\n\u001b[0;32m     60\u001b[0m     \u001b[0mK1m\u001b[0m \u001b[1;33m=\u001b[0m \u001b[0mcompute_kernel_matrix\u001b[0m\u001b[1;33m(\u001b[0m\u001b[0mX\u001b[0m\u001b[1;33m,\u001b[0m \u001b[0mX_selected\u001b[0m\u001b[1;33m)\u001b[0m\u001b[1;33m\u001b[0m\u001b[1;33m\u001b[0m\u001b[0m\n",
      "\u001b[1;32mc:\\Users\\AHMED-YASSINE\\Desktop\\COURS ENSTA\\3A\\CODS\\Cooperative-Opt-project\\methods\\utils.py\u001b[0m in \u001b[0;36mcompute_kernel_matrix\u001b[1;34m(X, Y)\u001b[0m\n\u001b[0;32m     96\u001b[0m     \u001b[1;32mreturn\u001b[0m \u001b[0mHessian\u001b[0m\u001b[1;33m\u001b[0m\u001b[1;33m\u001b[0m\u001b[0m\n\u001b[0;32m     97\u001b[0m \u001b[1;33m\u001b[0m\u001b[0m\n\u001b[1;32m---> 98\u001b[1;33m \u001b[1;32mdef\u001b[0m \u001b[0mcompute_local_gradient\u001b[0m\u001b[1;33m(\u001b[0m\u001b[0malpha\u001b[0m\u001b[1;33m,\u001b[0m \u001b[0msigma2\u001b[0m\u001b[1;33m,\u001b[0m \u001b[0mK_mm\u001b[0m\u001b[1;33m,\u001b[0m \u001b[0my_loc\u001b[0m\u001b[1;33m,\u001b[0m \u001b[0mK_im\u001b[0m\u001b[1;33m,\u001b[0m \u001b[0mnu\u001b[0m\u001b[1;33m,\u001b[0m \u001b[0ma\u001b[0m\u001b[1;33m)\u001b[0m\u001b[1;33m:\u001b[0m\u001b[1;33m\u001b[0m\u001b[1;33m\u001b[0m\u001b[0m\n\u001b[0m\u001b[0;32m     99\u001b[0m     \"\"\"\n\u001b[0;32m    100\u001b[0m     \u001b[0mCompute\u001b[0m \u001b[0mthe\u001b[0m \u001b[0mlocal\u001b[0m \u001b[0mgradient\u001b[0m\u001b[1;33m.\u001b[0m\u001b[1;33m\u001b[0m\u001b[1;33m\u001b[0m\u001b[0m\n",
      "\u001b[1;32mc:\\Users\\AHMED-YASSINE\\Desktop\\COURS ENSTA\\3A\\CODS\\Cooperative-Opt-project\\methods\\utils.py\u001b[0m in \u001b[0;36meuclidean_kernel\u001b[1;34m(x, y)\u001b[0m\n\u001b[0;32m     12\u001b[0m     \u001b[0mCompute\u001b[0m \u001b[0mthe\u001b[0m \u001b[0mobjective\u001b[0m \u001b[0mfunction\u001b[0m \u001b[0mvalue\u001b[0m\u001b[1;33m.\u001b[0m\u001b[1;33m\u001b[0m\u001b[1;33m\u001b[0m\u001b[0m\n\u001b[0;32m     13\u001b[0m     \"\"\"\n\u001b[1;32m---> 14\u001b[1;33m     \u001b[0mt1\u001b[0m \u001b[1;33m=\u001b[0m \u001b[1;33m(\u001b[0m\u001b[0msigma2\u001b[0m \u001b[1;33m/\u001b[0m \u001b[1;36m2\u001b[0m\u001b[1;33m)\u001b[0m \u001b[1;33m*\u001b[0m \u001b[0mnp\u001b[0m\u001b[1;33m.\u001b[0m\u001b[0mdot\u001b[0m\u001b[1;33m(\u001b[0m\u001b[0malpha\u001b[0m\u001b[1;33m.\u001b[0m\u001b[0mT\u001b[0m\u001b[1;33m,\u001b[0m \u001b[0mkmm\u001b[0m \u001b[1;33m@\u001b[0m \u001b[0malpha\u001b[0m\u001b[1;33m)\u001b[0m\u001b[1;33m\u001b[0m\u001b[1;33m\u001b[0m\u001b[0m\n\u001b[0m\u001b[0;32m     15\u001b[0m     \u001b[0mt2\u001b[0m \u001b[1;33m=\u001b[0m \u001b[1;36m0.5\u001b[0m \u001b[1;33m*\u001b[0m \u001b[0mnp\u001b[0m\u001b[1;33m.\u001b[0m\u001b[0msum\u001b[0m\u001b[1;33m(\u001b[0m\u001b[1;33m(\u001b[0m\u001b[0my\u001b[0m \u001b[1;33m-\u001b[0m \u001b[0mknm\u001b[0m \u001b[1;33m@\u001b[0m \u001b[0malpha\u001b[0m\u001b[1;33m)\u001b[0m \u001b[1;33m**\u001b[0m \u001b[1;36m2\u001b[0m\u001b[1;33m)\u001b[0m\u001b[1;33m\u001b[0m\u001b[1;33m\u001b[0m\u001b[0m\n\u001b[0;32m     16\u001b[0m     \u001b[0mt3\u001b[0m \u001b[1;33m=\u001b[0m \u001b[1;33m(\u001b[0m\u001b[0mnu\u001b[0m \u001b[1;33m/\u001b[0m \u001b[1;36m2\u001b[0m\u001b[1;33m)\u001b[0m \u001b[1;33m*\u001b[0m \u001b[0mnp\u001b[0m\u001b[1;33m.\u001b[0m\u001b[0mlinalg\u001b[0m\u001b[1;33m.\u001b[0m\u001b[0mnorm\u001b[0m\u001b[1;33m(\u001b[0m\u001b[0malpha\u001b[0m\u001b[1;33m)\u001b[0m \u001b[1;33m**\u001b[0m \u001b[1;36m2\u001b[0m\u001b[1;33m\u001b[0m\u001b[1;33m\u001b[0m\u001b[0m\n",
      "\u001b[1;32mc:\\Users\\AHMED-YASSINE\\AppData\\Local\\Programs\\Python\\Python310\\lib\\site-packages\\numpy\\linalg\\linalg.py\u001b[0m in \u001b[0;36mnorm\u001b[1;34m(x, ord, axis, keepdims)\u001b[0m\n\u001b[0;32m   2550\u001b[0m                 \u001b[0msqnorm\u001b[0m \u001b[1;33m=\u001b[0m \u001b[0mx_real\u001b[0m\u001b[1;33m.\u001b[0m\u001b[0mdot\u001b[0m\u001b[1;33m(\u001b[0m\u001b[0mx_real\u001b[0m\u001b[1;33m)\u001b[0m \u001b[1;33m+\u001b[0m \u001b[0mx_imag\u001b[0m\u001b[1;33m.\u001b[0m\u001b[0mdot\u001b[0m\u001b[1;33m(\u001b[0m\u001b[0mx_imag\u001b[0m\u001b[1;33m)\u001b[0m\u001b[1;33m\u001b[0m\u001b[1;33m\u001b[0m\u001b[0m\n\u001b[0;32m   2551\u001b[0m             \u001b[1;32melse\u001b[0m\u001b[1;33m:\u001b[0m\u001b[1;33m\u001b[0m\u001b[1;33m\u001b[0m\u001b[0m\n\u001b[1;32m-> 2552\u001b[1;33m                 \u001b[0msqnorm\u001b[0m \u001b[1;33m=\u001b[0m \u001b[0mx\u001b[0m\u001b[1;33m.\u001b[0m\u001b[0mdot\u001b[0m\u001b[1;33m(\u001b[0m\u001b[0mx\u001b[0m\u001b[1;33m)\u001b[0m\u001b[1;33m\u001b[0m\u001b[1;33m\u001b[0m\u001b[0m\n\u001b[0m\u001b[0;32m   2553\u001b[0m             \u001b[0mret\u001b[0m \u001b[1;33m=\u001b[0m \u001b[0msqrt\u001b[0m\u001b[1;33m(\u001b[0m\u001b[0msqnorm\u001b[0m\u001b[1;33m)\u001b[0m\u001b[1;33m\u001b[0m\u001b[1;33m\u001b[0m\u001b[0m\n\u001b[0;32m   2554\u001b[0m             \u001b[1;32mif\u001b[0m \u001b[0mkeepdims\u001b[0m\u001b[1;33m:\u001b[0m\u001b[1;33m\u001b[0m\u001b[1;33m\u001b[0m\u001b[0m\n",
      "\u001b[1;31mKeyboardInterrupt\u001b[0m: "
     ]
    }
   ],
   "source": [
    "# different n \n",
    "n_list = [100,500,1000, 2000, 10000]\n",
    "alphas_n_admm = []\n",
    "alphas_n_dgd = []\n",
    "alphas_n_gt = []\n",
    "alphas_n_dd = []\n",
    "\n",
    "for n in n_list:\n",
    "    print(f\"n = {n}\")\n",
    "    m = int(np.sqrt(n))  # Number of selected points\n",
    "    a = 5\n",
    "    n_epochs = 10000\n",
    "    \n",
    "    x_n = x[:n] \n",
    "    y_n = y[:n]\n",
    "    sel = [i for i in range(n)]\n",
    "    ind = np.random.choice(sel, m, replace=False)\n",
    "    x_selected = np.array([x[i] for i in ind])\n",
    "    Kmm = compute_kernel_matrix(x_selected, x_selected)\n",
    "    Knm = compute_kernel_matrix(x_n, x_selected)\n",
    "    alpha_star = compute_alpha_star(Kmm, Knm, y_n, sigma2, nu)\n",
    "    #W = np.ones((a, a))\n",
    "    #W = W_base(a)\n",
    "    # W = W_base_bis(a)\n",
    "    W = fully_connected_graph(a)\n",
    "    #W = linear_graph(a)\n",
    "    #W = small_world_graph(a)\n",
    "    K = compute_kernel_matrix(x_n, x_n)\n",
    "    N = np.arange(n)\n",
    "    np.random.shuffle(N)\n",
    "    A = np.array_split(N, a)\n",
    "    \n",
    "    alpha_optim_admm, alpha_list_admm, alpha_mean_list_admm, opt_gaps_admm = ADMM(x_n, y_n, x_selected, A, nu, sigma2, n_epochs, W, beta)\n",
    "    alphas_n_admm.append(alpha_optim_admm)\n",
    "\n",
    "    alpha_optim_dgd, opt_gaps_dgd, alpha_list_dgd, alpha_mean_list_dgd = DGD(x_n, y_n, x_selected, A, nu, sigma2, alpha_star, W, step_size, n_epochs)\n",
    "    alphas_n_dgd.append(alpha_optim_dgd)\n",
    "    \n",
    "    alpha_optim_gt, opt_gaps_gt, alpha_list_gt, alpha_mean_list_gt = gradient_tracking(x_n, y_n, x_selected, A, nu, sigma2, alpha_star, W, step_size, n_epochs)\n",
    "    alphas_n_gt.append(alpha_optim_gt)\n",
    "\n",
    "    alpha_optim_dd, alpha_list_dd, alpha_mean_list_dd = dualDec(x_n,y_n,x_selected,A,K,sigma2 ,nu ,0.1,W,max_iter=1000)\n",
    "    alphas_n_dd.append(alpha_optim_dd)\n"
   ]
  },
  {
   "cell_type": "code",
   "execution_count": null,
   "metadata": {},
   "outputs": [
    {
     "name": "stdout",
     "output_type": "stream",
     "text": [
      "n = 100\n",
      "n = 500\n",
      "n = 1000\n",
      "n = 2000\n",
      "n = 10000\n"
     ]
    },
    {
     "ename": "KeyboardInterrupt",
     "evalue": "",
     "output_type": "error",
     "traceback": [
      "\u001b[1;31m---------------------------------------------------------------------------\u001b[0m",
      "\u001b[1;31mKeyboardInterrupt\u001b[0m                         Traceback (most recent call last)",
      "\u001b[1;32m~\\AppData\\Local\\Temp\\ipykernel_16664\\688318644.py\u001b[0m in \u001b[0;36m<cell line: 7>\u001b[1;34m()\u001b[0m\n\u001b[0;32m     25\u001b[0m     \u001b[1;31m#W = linear_graph(a)\u001b[0m\u001b[1;33m\u001b[0m\u001b[1;33m\u001b[0m\u001b[0m\n\u001b[0;32m     26\u001b[0m     \u001b[1;31m#W = small_world_graph(a)\u001b[0m\u001b[1;33m\u001b[0m\u001b[1;33m\u001b[0m\u001b[0m\n\u001b[1;32m---> 27\u001b[1;33m     \u001b[0mK\u001b[0m \u001b[1;33m=\u001b[0m \u001b[0mcompute_kernel_matrix\u001b[0m\u001b[1;33m(\u001b[0m\u001b[0mx_n\u001b[0m\u001b[1;33m,\u001b[0m \u001b[0mx_n\u001b[0m\u001b[1;33m)\u001b[0m\u001b[1;33m\u001b[0m\u001b[1;33m\u001b[0m\u001b[0m\n\u001b[0m\u001b[0;32m     28\u001b[0m     \u001b[0mN\u001b[0m \u001b[1;33m=\u001b[0m \u001b[0mnp\u001b[0m\u001b[1;33m.\u001b[0m\u001b[0marange\u001b[0m\u001b[1;33m(\u001b[0m\u001b[0mn\u001b[0m\u001b[1;33m)\u001b[0m\u001b[1;33m\u001b[0m\u001b[1;33m\u001b[0m\u001b[0m\n\u001b[0;32m     29\u001b[0m     \u001b[0mnp\u001b[0m\u001b[1;33m.\u001b[0m\u001b[0mrandom\u001b[0m\u001b[1;33m.\u001b[0m\u001b[0mshuffle\u001b[0m\u001b[1;33m(\u001b[0m\u001b[0mN\u001b[0m\u001b[1;33m)\u001b[0m\u001b[1;33m\u001b[0m\u001b[1;33m\u001b[0m\u001b[0m\n",
      "\u001b[1;32mc:\\Users\\AHMED-YASSINE\\Desktop\\COURS ENSTA\\3A\\CODS\\Cooperative-Opt-project\\methods\\utils.py\u001b[0m in \u001b[0;36mcompute_kernel_matrix\u001b[1;34m(X, Y)\u001b[0m\n\u001b[0;32m     96\u001b[0m \u001b[1;33m\u001b[0m\u001b[0m\n\u001b[0;32m     97\u001b[0m     \u001b[1;32mreturn\u001b[0m \u001b[0mgrad\u001b[0m\u001b[1;33m\u001b[0m\u001b[1;33m\u001b[0m\u001b[0m\n\u001b[1;32m---> 98\u001b[1;33m \u001b[1;33m\u001b[0m\u001b[0m\n\u001b[0m\u001b[0;32m     99\u001b[0m \u001b[1;32mdef\u001b[0m \u001b[0mcompute_kernel_matrix\u001b[0m\u001b[1;33m(\u001b[0m\u001b[0mX\u001b[0m\u001b[1;33m,\u001b[0m \u001b[0mY\u001b[0m\u001b[1;33m)\u001b[0m\u001b[1;33m:\u001b[0m\u001b[1;33m\u001b[0m\u001b[1;33m\u001b[0m\u001b[0m\n\u001b[0;32m    100\u001b[0m     \"\"\"\n",
      "\u001b[1;32mc:\\Users\\AHMED-YASSINE\\Desktop\\COURS ENSTA\\3A\\CODS\\Cooperative-Opt-project\\methods\\utils.py\u001b[0m in \u001b[0;36meuclidean_kernel\u001b[1;34m(x, y)\u001b[0m\n\u001b[0;32m     12\u001b[0m     \u001b[0mCompute\u001b[0m \u001b[0mthe\u001b[0m \u001b[0mobjective\u001b[0m \u001b[0mfunction\u001b[0m \u001b[0mvalue\u001b[0m\u001b[1;33m.\u001b[0m\u001b[1;33m\u001b[0m\u001b[1;33m\u001b[0m\u001b[0m\n\u001b[0;32m     13\u001b[0m     \"\"\"\n\u001b[1;32m---> 14\u001b[1;33m     \u001b[0mt1\u001b[0m \u001b[1;33m=\u001b[0m \u001b[1;33m(\u001b[0m\u001b[0msigma2\u001b[0m \u001b[1;33m/\u001b[0m \u001b[1;36m2\u001b[0m\u001b[1;33m)\u001b[0m \u001b[1;33m*\u001b[0m \u001b[0mnp\u001b[0m\u001b[1;33m.\u001b[0m\u001b[0mdot\u001b[0m\u001b[1;33m(\u001b[0m\u001b[0malpha\u001b[0m\u001b[1;33m.\u001b[0m\u001b[0mT\u001b[0m\u001b[1;33m,\u001b[0m \u001b[0mkmm\u001b[0m \u001b[1;33m@\u001b[0m \u001b[0malpha\u001b[0m\u001b[1;33m)\u001b[0m\u001b[1;33m\u001b[0m\u001b[1;33m\u001b[0m\u001b[0m\n\u001b[0m\u001b[0;32m     15\u001b[0m     \u001b[0mt2\u001b[0m \u001b[1;33m=\u001b[0m \u001b[1;36m0.5\u001b[0m \u001b[1;33m*\u001b[0m \u001b[0mnp\u001b[0m\u001b[1;33m.\u001b[0m\u001b[0msum\u001b[0m\u001b[1;33m(\u001b[0m\u001b[1;33m(\u001b[0m\u001b[0my\u001b[0m \u001b[1;33m-\u001b[0m \u001b[0mknm\u001b[0m \u001b[1;33m@\u001b[0m \u001b[0malpha\u001b[0m\u001b[1;33m)\u001b[0m \u001b[1;33m**\u001b[0m \u001b[1;36m2\u001b[0m\u001b[1;33m)\u001b[0m\u001b[1;33m\u001b[0m\u001b[1;33m\u001b[0m\u001b[0m\n\u001b[0;32m     16\u001b[0m     \u001b[0mt3\u001b[0m \u001b[1;33m=\u001b[0m \u001b[1;33m(\u001b[0m\u001b[0mnu\u001b[0m \u001b[1;33m/\u001b[0m \u001b[1;36m2\u001b[0m\u001b[1;33m)\u001b[0m \u001b[1;33m*\u001b[0m \u001b[0mnp\u001b[0m\u001b[1;33m.\u001b[0m\u001b[0mlinalg\u001b[0m\u001b[1;33m.\u001b[0m\u001b[0mnorm\u001b[0m\u001b[1;33m(\u001b[0m\u001b[0malpha\u001b[0m\u001b[1;33m)\u001b[0m \u001b[1;33m**\u001b[0m \u001b[1;36m2\u001b[0m\u001b[1;33m\u001b[0m\u001b[1;33m\u001b[0m\u001b[0m\n",
      "\u001b[1;32mc:\\Users\\AHMED-YASSINE\\AppData\\Local\\Programs\\Python\\Python310\\lib\\site-packages\\numpy\\linalg\\linalg.py\u001b[0m in \u001b[0;36mnorm\u001b[1;34m(x, ord, axis, keepdims)\u001b[0m\n\u001b[0;32m   2550\u001b[0m                 \u001b[0msqnorm\u001b[0m \u001b[1;33m=\u001b[0m \u001b[0mx_real\u001b[0m\u001b[1;33m.\u001b[0m\u001b[0mdot\u001b[0m\u001b[1;33m(\u001b[0m\u001b[0mx_real\u001b[0m\u001b[1;33m)\u001b[0m \u001b[1;33m+\u001b[0m \u001b[0mx_imag\u001b[0m\u001b[1;33m.\u001b[0m\u001b[0mdot\u001b[0m\u001b[1;33m(\u001b[0m\u001b[0mx_imag\u001b[0m\u001b[1;33m)\u001b[0m\u001b[1;33m\u001b[0m\u001b[1;33m\u001b[0m\u001b[0m\n\u001b[0;32m   2551\u001b[0m             \u001b[1;32melse\u001b[0m\u001b[1;33m:\u001b[0m\u001b[1;33m\u001b[0m\u001b[1;33m\u001b[0m\u001b[0m\n\u001b[1;32m-> 2552\u001b[1;33m                 \u001b[0msqnorm\u001b[0m \u001b[1;33m=\u001b[0m \u001b[0mx\u001b[0m\u001b[1;33m.\u001b[0m\u001b[0mdot\u001b[0m\u001b[1;33m(\u001b[0m\u001b[0mx\u001b[0m\u001b[1;33m)\u001b[0m\u001b[1;33m\u001b[0m\u001b[1;33m\u001b[0m\u001b[0m\n\u001b[0m\u001b[0;32m   2553\u001b[0m             \u001b[0mret\u001b[0m \u001b[1;33m=\u001b[0m \u001b[0msqrt\u001b[0m\u001b[1;33m(\u001b[0m\u001b[0msqnorm\u001b[0m\u001b[1;33m)\u001b[0m\u001b[1;33m\u001b[0m\u001b[1;33m\u001b[0m\u001b[0m\n\u001b[0;32m   2554\u001b[0m             \u001b[1;32mif\u001b[0m \u001b[0mkeepdims\u001b[0m\u001b[1;33m:\u001b[0m\u001b[1;33m\u001b[0m\u001b[1;33m\u001b[0m\u001b[0m\n",
      "\u001b[1;31mKeyboardInterrupt\u001b[0m: "
     ]
    }
   ],
   "source": [
    "n_list = [100,500,1000, 2000, 10000]\n",
    "alpha_star_n = []\n",
    "\n",
    "for i, n in enumerate(n_list):\n",
    "    print(f\"n = {n}\")\n",
    "    m = int(np.sqrt(n))  # Number of selected points\n",
    "    a = 5\n",
    "    n_epochs = 10000\n",
    "    \n",
    "    x_n = x[:n] \n",
    "    y_n = y[:n]\n",
    "    sel = [i for i in range(n)]\n",
    "    ind = np.random.choice(sel, m, replace=False)\n",
    "    x_selected = np.array([x[i] for i in ind])\n",
    "    Kmm = compute_kernel_matrix(x_selected, x_selected)\n",
    "    Knm = compute_kernel_matrix(x_n, x_selected)\n",
    "    alpha_star = compute_alpha_star(Kmm, Knm, y_n, sigma2, nu)\n",
    "    #W = np.ones((a, a))\n",
    "    #W = W_base(a)\n",
    "    # W = W_base_bis(a)\n",
    "    W = fully_connected_graph(a)\n",
    "    #W = linear_graph(a)\n",
    "    #W = small_world_graph(a)\n",
    "    K = compute_kernel_matrix(x_n, x_n)\n",
    "    N = np.arange(n)\n",
    "    np.random.shuffle(N)\n",
    "    A = np.array_split(N, a)\n",
    "    alpha_star_n.append(alpha_star)\n",
    "\n",
    "    "
   ]
  },
  {
   "cell_type": "code",
   "execution_count": 34,
   "metadata": {},
   "outputs": [
    {
     "data": {
      "text/plain": [
       "2"
      ]
     },
     "execution_count": 34,
     "metadata": {},
     "output_type": "execute_result"
    }
   ],
   "source": [
    "len(alphas_n_dgd)"
   ]
  },
  {
   "cell_type": "code",
   "execution_count": 35,
   "metadata": {},
   "outputs": [
    {
     "ename": "ValueError",
     "evalue": "operands could not be broadcast together with shapes (5,10000) (10,) ",
     "output_type": "error",
     "traceback": [
      "\u001b[1;31m---------------------------------------------------------------------------\u001b[0m",
      "\u001b[1;31mValueError\u001b[0m                                Traceback (most recent call last)",
      "\u001b[1;32m~\\AppData\\Local\\Temp\\ipykernel_16664\\2466125639.py\u001b[0m in \u001b[0;36m<cell line: 5>\u001b[1;34m()\u001b[0m\n\u001b[0;32m      3\u001b[0m \u001b[0mplt\u001b[0m\u001b[1;33m.\u001b[0m\u001b[0mfigure\u001b[0m\u001b[1;33m(\u001b[0m\u001b[0mfigsize\u001b[0m\u001b[1;33m=\u001b[0m\u001b[1;33m(\u001b[0m\u001b[1;36m10\u001b[0m\u001b[1;33m,\u001b[0m \u001b[1;36m6\u001b[0m\u001b[1;33m)\u001b[0m\u001b[1;33m)\u001b[0m\u001b[1;33m\u001b[0m\u001b[1;33m\u001b[0m\u001b[0m\n\u001b[0;32m      4\u001b[0m \u001b[1;31m# plot the optimal gap for DGD with respect to n\u001b[0m\u001b[1;33m\u001b[0m\u001b[1;33m\u001b[0m\u001b[0m\n\u001b[1;32m----> 5\u001b[1;33m \u001b[0mplt\u001b[0m\u001b[1;33m.\u001b[0m\u001b[0mplot\u001b[0m\u001b[1;33m(\u001b[0m\u001b[0mn_list\u001b[0m\u001b[1;33m,\u001b[0m \u001b[1;33m[\u001b[0m\u001b[0mnp\u001b[0m\u001b[1;33m.\u001b[0m\u001b[0mlinalg\u001b[0m\u001b[1;33m.\u001b[0m\u001b[0mnorm\u001b[0m\u001b[1;33m(\u001b[0m\u001b[0malphas_n_dgd\u001b[0m\u001b[1;33m[\u001b[0m\u001b[0mi\u001b[0m\u001b[1;33m]\u001b[0m \u001b[1;33m-\u001b[0m \u001b[0malpha_star_n\u001b[0m\u001b[1;33m[\u001b[0m\u001b[0mi\u001b[0m\u001b[1;33m]\u001b[0m\u001b[1;33m)\u001b[0m \u001b[1;32mfor\u001b[0m \u001b[0mi\u001b[0m \u001b[1;32min\u001b[0m \u001b[0mrange\u001b[0m\u001b[1;33m(\u001b[0m\u001b[0mlen\u001b[0m\u001b[1;33m(\u001b[0m\u001b[0mn_list\u001b[0m\u001b[1;33m)\u001b[0m\u001b[1;33m)\u001b[0m\u001b[1;33m]\u001b[0m\u001b[1;33m,\u001b[0m \u001b[0mlabel\u001b[0m\u001b[1;33m=\u001b[0m\u001b[1;34m'DGD'\u001b[0m\u001b[1;33m,\u001b[0m \u001b[0mmarker\u001b[0m\u001b[1;33m=\u001b[0m\u001b[1;34m'o'\u001b[0m\u001b[1;33m)\u001b[0m\u001b[1;33m\u001b[0m\u001b[1;33m\u001b[0m\u001b[0m\n\u001b[0m\u001b[0;32m      6\u001b[0m \u001b[0mplt\u001b[0m\u001b[1;33m.\u001b[0m\u001b[0mlegend\u001b[0m\u001b[1;33m(\u001b[0m\u001b[1;33m)\u001b[0m\u001b[1;33m\u001b[0m\u001b[1;33m\u001b[0m\u001b[0m\n\u001b[0;32m      7\u001b[0m \u001b[0mplt\u001b[0m\u001b[1;33m.\u001b[0m\u001b[0mxlabel\u001b[0m\u001b[1;33m(\u001b[0m\u001b[1;34m'Iterations'\u001b[0m\u001b[1;33m)\u001b[0m\u001b[1;33m\u001b[0m\u001b[1;33m\u001b[0m\u001b[0m\n",
      "\u001b[1;32m~\\AppData\\Local\\Temp\\ipykernel_16664\\2466125639.py\u001b[0m in \u001b[0;36m<listcomp>\u001b[1;34m(.0)\u001b[0m\n\u001b[0;32m      3\u001b[0m \u001b[0mplt\u001b[0m\u001b[1;33m.\u001b[0m\u001b[0mfigure\u001b[0m\u001b[1;33m(\u001b[0m\u001b[0mfigsize\u001b[0m\u001b[1;33m=\u001b[0m\u001b[1;33m(\u001b[0m\u001b[1;36m10\u001b[0m\u001b[1;33m,\u001b[0m \u001b[1;36m6\u001b[0m\u001b[1;33m)\u001b[0m\u001b[1;33m)\u001b[0m\u001b[1;33m\u001b[0m\u001b[1;33m\u001b[0m\u001b[0m\n\u001b[0;32m      4\u001b[0m \u001b[1;31m# plot the optimal gap for DGD with respect to n\u001b[0m\u001b[1;33m\u001b[0m\u001b[1;33m\u001b[0m\u001b[0m\n\u001b[1;32m----> 5\u001b[1;33m \u001b[0mplt\u001b[0m\u001b[1;33m.\u001b[0m\u001b[0mplot\u001b[0m\u001b[1;33m(\u001b[0m\u001b[0mn_list\u001b[0m\u001b[1;33m,\u001b[0m \u001b[1;33m[\u001b[0m\u001b[0mnp\u001b[0m\u001b[1;33m.\u001b[0m\u001b[0mlinalg\u001b[0m\u001b[1;33m.\u001b[0m\u001b[0mnorm\u001b[0m\u001b[1;33m(\u001b[0m\u001b[0malphas_n_dgd\u001b[0m\u001b[1;33m[\u001b[0m\u001b[0mi\u001b[0m\u001b[1;33m]\u001b[0m \u001b[1;33m-\u001b[0m \u001b[0malpha_star_n\u001b[0m\u001b[1;33m[\u001b[0m\u001b[0mi\u001b[0m\u001b[1;33m]\u001b[0m\u001b[1;33m)\u001b[0m \u001b[1;32mfor\u001b[0m \u001b[0mi\u001b[0m \u001b[1;32min\u001b[0m \u001b[0mrange\u001b[0m\u001b[1;33m(\u001b[0m\u001b[0mlen\u001b[0m\u001b[1;33m(\u001b[0m\u001b[0mn_list\u001b[0m\u001b[1;33m)\u001b[0m\u001b[1;33m)\u001b[0m\u001b[1;33m]\u001b[0m\u001b[1;33m,\u001b[0m \u001b[0mlabel\u001b[0m\u001b[1;33m=\u001b[0m\u001b[1;34m'DGD'\u001b[0m\u001b[1;33m,\u001b[0m \u001b[0mmarker\u001b[0m\u001b[1;33m=\u001b[0m\u001b[1;34m'o'\u001b[0m\u001b[1;33m)\u001b[0m\u001b[1;33m\u001b[0m\u001b[1;33m\u001b[0m\u001b[0m\n\u001b[0m\u001b[0;32m      6\u001b[0m \u001b[0mplt\u001b[0m\u001b[1;33m.\u001b[0m\u001b[0mlegend\u001b[0m\u001b[1;33m(\u001b[0m\u001b[1;33m)\u001b[0m\u001b[1;33m\u001b[0m\u001b[1;33m\u001b[0m\u001b[0m\n\u001b[0;32m      7\u001b[0m \u001b[0mplt\u001b[0m\u001b[1;33m.\u001b[0m\u001b[0mxlabel\u001b[0m\u001b[1;33m(\u001b[0m\u001b[1;34m'Iterations'\u001b[0m\u001b[1;33m)\u001b[0m\u001b[1;33m\u001b[0m\u001b[1;33m\u001b[0m\u001b[0m\n",
      "\u001b[1;31mValueError\u001b[0m: operands could not be broadcast together with shapes (5,10000) (10,) "
     ]
    },
    {
     "data": {
      "text/plain": [
       "<Figure size 1000x600 with 0 Axes>"
      ]
     },
     "metadata": {},
     "output_type": "display_data"
    }
   ],
   "source": [
    "## DGD with respect to n\n",
    "n_list = [100,500]\n",
    "plt.figure(figsize=(10, 6))\n",
    "# plot the optimal gap for DGD with respect to n\n",
    "plt.plot(n_list, [np.linalg.norm(alphas_n_dgd[i] - alpha_star_n[i]) for i in range(len(n_list))], label='DGD', marker='o')\n",
    "plt.legend()\n",
    "plt.xlabel('Iterations')\n",
    "plt.ylabel('Optimal gap')\n",
    "plt.title('DGD with respect to n')\n",
    "plt.grid()\n",
    "plt.tight_layout()\n",
    "plt\n"
   ]
  }
 ],
 "metadata": {
  "kernelspec": {
   "display_name": "Python 3",
   "language": "python",
   "name": "python3"
  },
  "language_info": {
   "codemirror_mode": {
    "name": "ipython",
    "version": 3
   },
   "file_extension": ".py",
   "mimetype": "text/x-python",
   "name": "python",
   "nbconvert_exporter": "python",
   "pygments_lexer": "ipython3",
   "version": "3.10.8"
  }
 },
 "nbformat": 4,
 "nbformat_minor": 2
}
