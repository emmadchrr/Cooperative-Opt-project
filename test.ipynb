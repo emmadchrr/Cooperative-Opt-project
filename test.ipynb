{
 "cells": [
  {
   "cell_type": "code",
   "execution_count": 6,
   "metadata": {},
   "outputs": [],
   "source": [
    "import numpy as np\n",
    "import pickle\n",
    "from methods.utils import *"
   ]
  },
  {
   "cell_type": "code",
   "execution_count": 8,
   "metadata": {},
   "outputs": [],
   "source": [
    "with open('first_database.pkl', 'rb') as f:\n",
    "    x, y = pickle.load(f)\n",
    "\n",
    "n, m, a = 100, 10, 5 # Number of data points, number of selected points, number of agents\n",
    "sigma2 = 0.25\n",
    "nu = 1\n",
    "beta = 10\n",
    "n_epochs = 10000\n",
    "sigma = 0.5\n",
    "K = 5  # Order of approximation in NN-K\n",
    "step_size = 0.002\n",
    "\n",
    "X = x[:n]\n",
    "Y = y[:n]\n",
    "ind = np.random.choice(list(range(n)), m, replace=False)\n",
    "x_selected = np.array([x[i] for i in ind])\n",
    "\n",
    "N=np.arange(100) # indice pour la simulation (échantillion)\n",
    "\n",
    "np.random.shuffle(N)\n",
    "A = np.array_split(N, a) \n",
    "# A_ = np.array_split(M, a)"
   ]
  },
  {
   "cell_type": "code",
   "execution_count": 10,
   "metadata": {},
   "outputs": [
    {
     "data": {
      "text/plain": [
       "(20,)"
      ]
     },
     "execution_count": 10,
     "metadata": {},
     "output_type": "execute_result"
    }
   ],
   "source": [
    "X[A[0]].shape"
   ]
  },
  {
   "cell_type": "code",
   "execution_count": 17,
   "metadata": {},
   "outputs": [],
   "source": [
    "n, m, a = 100, 10, 5 # Number of data points, number of selected points, number of agents\n",
    "sigma2 = 0.25\n",
    "nu = 1\n",
    "beta = 10\n",
    "n_epochs = 5000\n",
    "sigma = 0.5\n",
    "K = 5 # Order of approximation in NN-K\n",
    "step_size = 0.001\n",
    "\n",
    "x_n = x[:n]\n",
    "y_n = y[:n]\n",
    "ind = np.random.choice(list(range(n)), m, replace=False)\n",
    "x_selected = np.array([x[i] for i in ind])\n",
    "\n",
    "# ind = np.random.choice(list(range(n)), m*a, replace=False)\n",
    "N = np.arange(n)\n",
    "np.random.shuffle(N)\n",
    "A = np.array_split(N, a) \n",
    "\n",
    "Kmm = compute_kernel_matrix(x_selected, x_selected)\n",
    "Knm = compute_kernel_matrix(x_n, x_selected)\n",
    "alpha_star = compute_alpha_star(Kmm, Knm, y_n, sigma2, nu)"
   ]
  },
  {
   "cell_type": "code",
   "execution_count": 20,
   "metadata": {},
   "outputs": [
    {
     "data": {
      "text/plain": [
       "(50,)"
      ]
     },
     "execution_count": 20,
     "metadata": {},
     "output_type": "execute_result"
    }
   ],
   "source": [
    "np.random.rand(a * m).shape"
   ]
  }
 ],
 "metadata": {
  "kernelspec": {
   "display_name": "Python 3",
   "language": "python",
   "name": "python3"
  },
  "language_info": {
   "codemirror_mode": {
    "name": "ipython",
    "version": 3
   },
   "file_extension": ".py",
   "mimetype": "text/x-python",
   "name": "python",
   "nbconvert_exporter": "python",
   "pygments_lexer": "ipython3",
   "version": "3.10.8"
  }
 },
 "nbformat": 4,
 "nbformat_minor": 2
}
