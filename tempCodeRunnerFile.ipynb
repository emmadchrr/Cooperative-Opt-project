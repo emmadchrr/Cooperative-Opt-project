
def grad_f_a(alpha,A,sigma,K_mm,K_im,N,y): 
  terme1=0.2*(K_mm.dot(alpha))
  
  somme=0
  for i in A:
    somme+= ((y[i]-(K_im[np.where(N==i)[0],:]).dot(alpha))*K_im[np.where(N==i)[0],:]).flatten()
    

  return terme1-somme/(sigma*sigma)

grad_f_a(np.ones(10),N,sigma,K_mm,K_im,N,y)